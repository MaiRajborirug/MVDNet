{
 "cells": [
  {
   "cell_type": "code",
   "execution_count": 4,
   "metadata": {},
   "outputs": [],
   "source": [
    "import os, errno\n",
    "import numpy as np\n",
    "\n",
    "# relative path from this python file to lidar_history folder\n",
    "root_path = \"../data/RobotCar/object\"\n",
    "hist_path = os.path.join(root_path, 'lidar_history')\n",
    "edit_path = './data/RobotCar/object/lidar'  # relative path from MVDNet to lidar folder\n",
    "\n",
    "def symlink_force(target, link_name):\n",
    "    try:\n",
    "        os.symlink(target, link_name)\n",
    "    except OSError as e:\n",
    "        if e.errno == errno.EEXIST:\n",
    "            os.remove(link_name)\n",
    "            os.symlink(target, link_name)\n",
    "        else:\n",
    "            raise e\n",
    "\n",
    "list_files = os.listdir(hist_path)\n",
    "list_links = []\n",
    "for file in list_files:\n",
    "    if file[-5] != 'T': # exclude non_symlink files\n",
    "        src_path = os.readlink(os.path.join(hist_path, file))\n",
    "        src_file = src_path.split('/')[-1]\n",
    "        src_edit_path = os.path.join(edit_path, src_file)\n",
    "        symlink_force(src_edit_path, os.path.join(hist_path, file))"
   ]
  },
  {
   "cell_type": "code",
   "execution_count": null,
   "metadata": {},
   "outputs": [],
   "source": [
    "# to check the"
   ]
  }
 ],
 "metadata": {
  "kernelspec": {
   "display_name": "detectron2",
   "language": "python",
   "name": "python3"
  },
  "language_info": {
   "codemirror_mode": {
    "name": "ipython",
    "version": 3
   },
   "file_extension": ".py",
   "mimetype": "text/x-python",
   "name": "python",
   "nbconvert_exporter": "python",
   "pygments_lexer": "ipython3",
   "version": "3.7.16"
  },
  "orig_nbformat": 4
 },
 "nbformat": 4,
 "nbformat_minor": 2
}
