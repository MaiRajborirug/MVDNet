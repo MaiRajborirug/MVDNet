{
 "cells": [
  {
   "cell_type": "code",
   "execution_count": 21,
   "metadata": {},
   "outputs": [],
   "source": [
    "# Step1: adjust symlink\n",
    "import os, errno\n",
    "import numpy as np\n",
    "\n",
    "# root_path = \"../ORR_dataset/tiny/processed\"\n",
    "_path = \"../data/RobotCar/object\"  \n",
    "hist_path = os.path.join(root_path, 'lidar_history') # from this file to lidar_history\n",
    "edit_path = './data/RobotCar/object/lidar'  # from MVDNet to lidar\n",
    "# os.listdir(hist_path)\n",
    "# os.path.islink(os.path.join(hist_path,'1547131048348015_1_T.bin'))\n",
    "\n",
    "def symlink_force(target, link_name):\n",
    "    try:\n",
    "        os.symlink(target, link_name)\n",
    "    except OSError as e:\n",
    "        if e.errno == errno.EEXIST:\n",
    "            os.remove(link_name)\n",
    "            os.symlink(target, link_name)\n",
    "        else:\n",
    "            raise e\n",
    "\n",
    "list_files = os.listdir(hist_path)\n",
    "list_links = []\n",
    "for file in list_files:\n",
    "    if file[-5] != 'T':\n",
    "        src_path = os.readlink(os.path.join(hist_path, file))\n",
    "        src_file = src_path.split('/')[-1]\n",
    "        src_edit_path = os.path.join(edit_path, src_file)\n",
    "        symlink_force(src_edit_path, os.path.join(hist_path, file))\n"
   ]
  },
  {
   "cell_type": "code",
   "execution_count": 60,
   "metadata": {},
   "outputs": [
    {
     "name": "stdout",
     "output_type": "stream",
     "text": [
      "[0 1 1 0 0]\n"
     ]
    }
   ],
   "source": [
    "# Step1: adjust symlink\n",
    "import os, errno, fnmatch\n",
    "import numpy as np\n",
    "import shutil\n",
    "import random\n",
    "\n",
    "np.random.seed(seed=2)\n",
    "\n",
    "def find(pattern, path):\n",
    "    '''generate list of searching files'''\n",
    "    result = []\n",
    "    for root, dirs, files in os.walk(path):\n",
    "        for name in files:\n",
    "            if fnmatch.fnmatch(name, pattern):\n",
    "                result.append(os.path.join(root, name))\n",
    "    return result\n",
    "\n",
    "def symlink_force(target, link_name):\n",
    "    '''generate symlink'''\n",
    "    try:\n",
    "        os.symlink(target, link_name)\n",
    "    except OSError as e:\n",
    "        if e.errno == errno.EEXIST:\n",
    "            os.remove(link_name)\n",
    "            os.symlink(target, link_name)\n",
    "        else:\n",
    "            raise e\n",
    "\n",
    "clear_path = \"../data/RobotCar/fog_0\"\n",
    "fog_path = \"../data/RobotCar/fog_006\"\n",
    "mix_path = \"../data/RobotCar/fog_mix\"\n",
    "true_path = \"../data/RobotCar/object\"\n",
    "\n",
    "list_lidar = os.listdir(os.path.join(clear_path,'lidar'))\n",
    "augs = np.random.randint(2, size=len(list_lidar))\n",
    "print(augs[:5])\n",
    "\n",
    "for i in range(len(list_lidar)):\n",
    "    # copy to /lidar\n",
    "    if augs[i] == 0:\n",
    "        shutil.copyfile(os.path.join(clear_path,'lidar', list_lidar[i]), os.path.join(mix_path,'lidar', list_lidar[i]))\n",
    "        list_hist = find(list_lidar[i][:-4] + '_*', os.path.join(clear_path, \"lidar_history\")) # list of lidar_history with the same name\n",
    "        for path_ in list_hist:\n",
    "            if path_[-5] == 'T': # copy file\n",
    "                shutil.copyfile(path_, os.path.join(mix_path,'lidar_history', path_.split('/')[-1]))\n",
    "            else: # generate symlink\n",
    "                src_path = os.readlink(path_) # read link of fog_0/lidar_history\n",
    "                symlink_force(src_path, os.path.join(mix_path, \"lidar_history\", path_.split('/')[-1]))\n",
    "    else:\n",
    "        shutil.copyfile(os.path.join(fog_path,'lidar', list_lidar[i]), os.path.join(mix_path,'lidar', list_lidar[i]))\n",
    "        list_hist = find(list_lidar[i][:-4] + '_*', os.path.join(fog_path, \"lidar_history\")) # list of lidar_history with the same name\n",
    "        for path_ in list_hist:\n",
    "            if path_[-5] == 'T': # copy file\n",
    "                shutil.copyfile(path_, os.path.join(mix_path,'lidar_history', path_.split('/')[-1]))\n",
    "            else: # generate symlink\n",
    "                src_path = os.readlink(path_) # read link of fog_0/lidar_history\n",
    "                # src_file = src_path.split('/')[-1]\"\"\n",
    "                # edit_path = \n",
    "                # src_edit_path = os.path.join(edit_path, src_file)\n",
    "                symlink_force(src_path, os.path.join(mix_path, \"lidar_history\", path_.split('/')[-1]))"
   ]
  },
  {
   "cell_type": "code",
   "execution_count": 40,
   "metadata": {},
   "outputs": [
    {
     "data": {
      "text/plain": [
       "'1547123003845254_3.bin'"
      ]
     },
     "execution_count": 40,
     "metadata": {},
     "output_type": "execute_result"
    }
   ],
   "source": [
    "import os, fnmatch\n",
    "def find(pattern, path):\n",
    "    result = []\n",
    "    for root, dirs, files in os.walk(path):\n",
    "        for name in files:\n",
    "            if fnmatch.fnmatch(name, pattern):\n",
    "                result.append(os.path.join(root, name))\n",
    "    return result\n",
    "\n",
    "x = find('1547123003845254*', \"../data/RobotCar/fog_006/lidar_history\")\n",
    "x[0].split('/')[-1]"
   ]
  },
  {
   "cell_type": "code",
   "execution_count": null,
   "metadata": {},
   "outputs": [],
   "source": []
  }
 ],
 "metadata": {
  "kernelspec": {
   "display_name": "detectron2",
   "language": "python",
   "name": "python3"
  },
  "language_info": {
   "codemirror_mode": {
    "name": "ipython",
    "version": 3
   },
   "file_extension": ".py",
   "mimetype": "text/x-python",
   "name": "python",
   "nbconvert_exporter": "python",
   "pygments_lexer": "ipython3",
   "version": "3.7.16"
  },
  "orig_nbformat": 4
 },
 "nbformat": 4,
 "nbformat_minor": 2
}
